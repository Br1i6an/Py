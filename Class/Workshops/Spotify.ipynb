{
 "cells": [
  {
   "cell_type": "markdown",
   "id": "e5ba3c2f",
   "metadata": {},
   "source": [
    "**Creacion de un dataset de entrenamiento (Features)**"
   ]
  },
  {
   "cell_type": "code",
   "execution_count": 5,
   "id": "b70d0daf",
   "metadata": {},
   "outputs": [],
   "source": [
    "import pandas as pd\n",
    "import random\n",
    "\n",
    "n=1000 #Numero de filas, de datos que vamos a generar\n",
    "\n",
    "data ={\n",
    "    'Tempo':[random.uniform(60,180) for _ in range(n)], # Tempo en BPM (ritmo)\n",
    "    'Energía':[random.uniform(0,1) for _ in range(n)], # Energia de la cancion\n",
    "    'Tono': [random.uniform(1,10) for _ in range(n)], # Tono de la cancion\n",
    "    'Like': [random.choice([0,1]) for _ in range(n)] # Like (0:Dislike, 1:Like)\n",
    "    \n",
    "}\n",
    "\n",
    "# Crear dataframe en pandas con los datos generados \n",
    "df = pd.DataFrame(data)\n",
    "\n",
    "df.to_csv('music_data_features.csv', index = False)"
   ]
  },
  {
   "cell_type": "markdown",
   "id": "1ed2e1fc",
   "metadata": {},
   "source": [
    "**Creacion de un dataset de Predicción** "
   ]
  },
  {
   "cell_type": "code",
   "execution_count": 6,
   "id": "1674e834",
   "metadata": {},
   "outputs": [],
   "source": [
    "import pandas as pd\n",
    "import random\n",
    "\n",
    "n=10000 #Numero de filas, de datos que vamos a generar\n",
    "\n",
    "data ={\n",
    "    'Tempo':[random.uniform(60,180) for _ in range(n)], # Tempo en BPM (ritmo)\n",
    "    'Energía':[random.uniform(0,1) for _ in range(n)], # Energia de la cancion\n",
    "    'Tono': [random.uniform(1,10) for _ in range(n)], # Tono de la cancion\n",
    "    'Like': [random.choice([0,1]) for _ in range(n)] # Like (0:Dislike, 1:Like)\n",
    "    \n",
    "}\n",
    "\n",
    "# Crear dataframe en pandas con los datos generados \n",
    "df = pd.DataFrame(data)\n",
    "\n",
    "df.to_csv('music_data.csv', index = False)"
   ]
  },
  {
   "cell_type": "markdown",
   "id": "0770c438",
   "metadata": {},
   "source": [
    "# Reg Log"
   ]
  },
  {
   "cell_type": "code",
   "execution_count": 8,
   "id": "f51d2b95",
   "metadata": {},
   "outputs": [
    {
     "name": "stdout",
     "output_type": "stream",
     "text": [
      "Precision del modelo en los datos de prueba:0.51\n",
      "Matriz de confusión en los datos de pprueba\n",
      "[[2008 2970]\n",
      " [1973 3049]]\n"
     ]
    }
   ],
   "source": [
    "import pandas as pd \n",
    "from sklearn.linear_model import LogisticRegression\n",
    "from sklearn.metrics import accuracy_score, confusion_matrix\n",
    "\n",
    "# Cargar los datos de entrenamiento dede el archivo csv\n",
    "data_train = pd.read_csv('music_data_features.csv')\n",
    "\n",
    "# Dividir los datos de entrenamiento en características (X_train) y etiquetas (y_train)\n",
    "X_train = data_train.drop('Like', axis=1)\n",
    "y_train = data_train['Like']\n",
    "\n",
    "# Cargar y entrenar el modelo de regresión logística con los datos de entrenamiento \n",
    "\n",
    "model = LogisticRegression(random_state=42, max_iter = 10000)\n",
    "model.fit(X_train, y_train)\n",
    "\n",
    "# Cargar los datos de prueba desde el archivo csv\n",
    "data_set = pd.read_csv('music_data.csv')\n",
    "\n",
    "# Dividir los datos de prueba en características (x_test) y etiquetas (y_test)\n",
    "X_test = data_set.drop('Like', axis=1)\n",
    "y_test = data_set['Like']\n",
    "\n",
    "# Realizar la predicción \n",
    "y_pred = model.predict(X_test)\n",
    "\n",
    "# Calcular la precisión del modelo en los datos de prueba\n",
    "accuracy = accuracy_score(y_test, y_pred)\n",
    "print(f'Precision del modelo en los datos de prueba:{accuracy:.2f}')\n",
    "\n",
    "# Mostrar la matriz de confusión en los datos de prueba\n",
    "conf_matrix = confusion_matrix(y_test, y_pred)\n",
    "print('Matriz de confusión en los datos de pprueba')\n",
    "print(conf_matrix)"
   ]
  },
  {
   "cell_type": "markdown",
   "id": "53379364",
   "metadata": {},
   "source": [
    "**Matriz de confusión**"
   ]
  },
  {
   "cell_type": "markdown",
   "id": "16c2f5d2",
   "metadata": {},
   "source": [
    "La matriz de confusión es una tabla que se utiliza para evaluar el rendimiento de un modelo de clasificación \n",
    "\n",
    "Muestra cuantas de las predicciones caen en diversas categorías:\n",
    "\n",
    "Verdaderos Positivos(TP), Falsos Positives (FP)\n",
    "\n",
    "Verdaderos Negativos (TN), Falsos Negativos (FN)"
   ]
  },
  {
   "cell_type": "markdown",
   "id": "2ee833f8",
   "metadata": {},
   "source": [
    "[TP,FP]  \n",
    "[TN,FN]"
   ]
  },
  {
   "cell_type": "markdown",
   "id": "12ebb066",
   "metadata": {},
   "source": [
    "(TP) Significa que el modelo predijo correctamente que algo pertenece a la clase positiva\n",
    "\n",
    "(FP) Significa que el modelo predijo incorrectamente que algo pertenece a la clase positiva cuando en realidad no lo hace.\n",
    "\n",
    "(TN) Significa que el modelo predijo correctamente que algo pertenece a la clase negativa\n",
    "\n",
    "(FN) Significa que el modelo predijo incorrectamente que algo pertenece a la clase negativa cuando en realidad no lo hace."
   ]
  }
 ],
 "metadata": {
  "kernelspec": {
   "display_name": "Python 3 (ipykernel)",
   "language": "python",
   "name": "python3"
  },
  "language_info": {
   "codemirror_mode": {
    "name": "ipython",
    "version": 3
   },
   "file_extension": ".py",
   "mimetype": "text/x-python",
   "name": "python",
   "nbconvert_exporter": "python",
   "pygments_lexer": "ipython3",
   "version": "3.11.4"
  }
 },
 "nbformat": 4,
 "nbformat_minor": 5
}
