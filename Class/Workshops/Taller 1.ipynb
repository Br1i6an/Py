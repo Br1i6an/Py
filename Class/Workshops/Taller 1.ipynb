{
 "cells": [
  {
   "cell_type": "code",
   "execution_count": 8,
   "id": "8b3ab13e",
   "metadata": {},
   "outputs": [],
   "source": [
    "import numpy as np"
   ]
  },
  {
   "cell_type": "markdown",
   "id": "4511ad41",
   "metadata": {},
   "source": [
    "# 1"
   ]
  },
  {
   "cell_type": "markdown",
   "id": "8807fede",
   "metadata": {},
   "source": [
    "**Crear un arreglo de 5 elementos enteros, todos iguales a 10**"
   ]
  },
  {
   "cell_type": "code",
   "execution_count": 9,
   "id": "15f356e0",
   "metadata": {},
   "outputs": [
    {
     "data": {
      "text/plain": [
       "array([10, 10, 10, 10, 10])"
      ]
     },
     "execution_count": 9,
     "metadata": {},
     "output_type": "execute_result"
    }
   ],
   "source": [
    "np.full((5),10)"
   ]
  },
  {
   "cell_type": "markdown",
   "id": "15d0e375",
   "metadata": {},
   "source": [
    "# 2"
   ]
  },
  {
   "cell_type": "markdown",
   "id": "2cc940e1",
   "metadata": {},
   "source": [
    "**Crear una matriz 2x3 con todos los elementos iguales a 5**"
   ]
  },
  {
   "cell_type": "code",
   "execution_count": 10,
   "id": "24e1231b",
   "metadata": {},
   "outputs": [
    {
     "data": {
      "text/plain": [
       "array([[5, 5, 5],\n",
       "       [5, 5, 5]])"
      ]
     },
     "execution_count": 10,
     "metadata": {},
     "output_type": "execute_result"
    }
   ],
   "source": [
    "np.full((2,3),5)"
   ]
  },
  {
   "cell_type": "markdown",
   "id": "ba49ab2a",
   "metadata": {},
   "source": [
    "# 3"
   ]
  },
  {
   "cell_type": "markdown",
   "id": "23046983",
   "metadata": {},
   "source": [
    "**Crear un arreglo multidimensional aleatorio de 3 tensores, cada uno de 2 filas y 3 columnas**"
   ]
  },
  {
   "cell_type": "code",
   "execution_count": 68,
   "id": "885f88cd",
   "metadata": {},
   "outputs": [
    {
     "data": {
      "text/plain": [
       "array([[[0.27499551, 0.27787874, 0.92891673],\n",
       "        [0.26427586, 0.63491385, 0.71936437]],\n",
       "\n",
       "       [[0.66898812, 0.41272379, 0.97771034],\n",
       "        [0.22862169, 0.25070395, 0.16340178]],\n",
       "\n",
       "       [[0.08110583, 0.06963316, 0.43093661],\n",
       "        [0.77524109, 0.61152553, 0.56888192]]])"
      ]
     },
     "execution_count": 68,
     "metadata": {},
     "output_type": "execute_result"
    }
   ],
   "source": [
    "np.random.rand(3,2,3)"
   ]
  },
  {
   "cell_type": "markdown",
   "id": "683d6497",
   "metadata": {},
   "source": [
    "# 4"
   ]
  },
  {
   "cell_type": "markdown",
   "id": "3533f031",
   "metadata": {},
   "source": [
    "**Dados los siguientes arreglos:\n",
    "arr1 = np.array([1, 2, 3, 4, 5]) \n",
    "arr2 = np.array([6, 7, 8, 9, 10])\n",
    "Sumar, restar y multiplicar.**\n"
   ]
  },
  {
   "cell_type": "code",
   "execution_count": 24,
   "id": "3931440b",
   "metadata": {},
   "outputs": [],
   "source": [
    "arr1 = np.array([1, 2, 3, 4, 5]) \n",
    "arr2 = np.array([6, 7, 8, 9, 10])"
   ]
  },
  {
   "cell_type": "code",
   "execution_count": 25,
   "id": "e6724646",
   "metadata": {},
   "outputs": [
    {
     "name": "stdout",
     "output_type": "stream",
     "text": [
      "[ 7  9 11 13 15]\n"
     ]
    }
   ],
   "source": [
    "# Suma\n",
    "print(arr1+arr2)"
   ]
  },
  {
   "cell_type": "code",
   "execution_count": 26,
   "id": "8c07b3e8",
   "metadata": {},
   "outputs": [
    {
     "name": "stdout",
     "output_type": "stream",
     "text": [
      "[-5 -5 -5 -5 -5]\n"
     ]
    }
   ],
   "source": [
    "# Resta\n",
    "print(arr1-arr2)"
   ]
  },
  {
   "cell_type": "code",
   "execution_count": 27,
   "id": "a3eabfef",
   "metadata": {},
   "outputs": [
    {
     "name": "stdout",
     "output_type": "stream",
     "text": [
      "[ 6 14 24 36 50]\n"
     ]
    }
   ],
   "source": [
    "# Multiplicación\n",
    "print(arr1*arr2)"
   ]
  },
  {
   "cell_type": "markdown",
   "id": "9151a8c4",
   "metadata": {},
   "source": [
    "# 5"
   ]
  },
  {
   "cell_type": "markdown",
   "id": "8e4d424d",
   "metadata": {},
   "source": [
    "**Dado el siguiente arreglo:\n",
    "data = np.array([23, 17, 25, 30, 21, 29, 18])\n",
    "Calcular la media y la desviación estándar**\n"
   ]
  },
  {
   "cell_type": "markdown",
   "id": "1bade5f5",
   "metadata": {},
   "source": [
    "array1 = np.array([23, 17, 25, 30, 21, 29, 18])"
   ]
  },
  {
   "cell_type": "code",
   "execution_count": 38,
   "id": "cc9552c5",
   "metadata": {},
   "outputs": [
    {
     "name": "stdout",
     "output_type": "stream",
     "text": [
      "Media: 23.285714285714285\n"
     ]
    }
   ],
   "source": [
    "# Media\n",
    "media = np.mean(array1)\n",
    "print(\"Media:\", media)"
   ]
  },
  {
   "cell_type": "code",
   "execution_count": 39,
   "id": "bbb8b831",
   "metadata": {},
   "outputs": [
    {
     "name": "stdout",
     "output_type": "stream",
     "text": [
      "Desviación estándar: 4.681705602335411\n"
     ]
    }
   ],
   "source": [
    "# Desviación estándar\n",
    "desviacion_estandar = np.std(array1)\n",
    "print(\"Desviación estándar:\", desviacion_estandar)"
   ]
  },
  {
   "cell_type": "markdown",
   "id": "7ebed228",
   "metadata": {},
   "source": [
    "# 6"
   ]
  },
  {
   "cell_type": "markdown",
   "id": "2dbaf9d2",
   "metadata": {},
   "source": [
    "**Dado el siguiente arreglo:\n",
    "datos = np.array([12, 15, 8, 10, 5, 14, 9, 7])\n",
    "Crear un nuevo arreglo que contenga los elementos mayores o iguales a 10**\n"
   ]
  },
  {
   "cell_type": "code",
   "execution_count": 36,
   "id": "b89f05e2",
   "metadata": {},
   "outputs": [
    {
     "name": "stdout",
     "output_type": "stream",
     "text": [
      "[12 15 10 14]\n"
     ]
    }
   ],
   "source": [
    "datos = np.array([12, 15, 8, 10, 5, 14, 9, 7])\n",
    "\n",
    "nuevo_arreglo = datos[datos >= 10]\n",
    "print(nuevo_arreglo)"
   ]
  },
  {
   "cell_type": "markdown",
   "id": "2680d6d8",
   "metadata": {},
   "source": [
    "# 7"
   ]
  },
  {
   "cell_type": "markdown",
   "id": "837e5790",
   "metadata": {},
   "source": [
    "**7.\tDado el siguiente arreglo: \n",
    "data = np.array([[12, 15, 20, 25], [8, 10, 12, 14], [18, 20, 22, 24]])**"
   ]
  },
  {
   "cell_type": "markdown",
   "id": "06a8ef46",
   "metadata": {},
   "source": [
    "data = np.array([[12, 15, 20, 25], [8, 10, 12, 14], [18, 20, 22, 24]])"
   ]
  },
  {
   "cell_type": "markdown",
   "id": "a5b241a5",
   "metadata": {},
   "source": [
    "7.1 Mostrar el numero por pantalla el numero 24"
   ]
  },
  {
   "cell_type": "code",
   "execution_count": 64,
   "id": "de824263",
   "metadata": {},
   "outputs": [
    {
     "data": {
      "text/plain": [
       "24"
      ]
     },
     "execution_count": 64,
     "metadata": {},
     "output_type": "execute_result"
    }
   ],
   "source": [
    "data[2,3]"
   ]
  },
  {
   "cell_type": "markdown",
   "id": "2a8606ee",
   "metadata": {},
   "source": [
    "7.2\tMostrar la fila 3: [18,20,22,24]"
   ]
  },
  {
   "cell_type": "code",
   "execution_count": 65,
   "id": "9ae09bc0",
   "metadata": {},
   "outputs": [
    {
     "data": {
      "text/plain": [
       "array([18, 20, 22, 24])"
      ]
     },
     "execution_count": 65,
     "metadata": {},
     "output_type": "execute_result"
    }
   ],
   "source": [
    "data[2]"
   ]
  },
  {
   "cell_type": "markdown",
   "id": "87076e9f",
   "metadata": {},
   "source": [
    "7.3\tMostrar la columna 2: [15,10,20]."
   ]
  },
  {
   "cell_type": "code",
   "execution_count": 66,
   "id": "a3b55e30",
   "metadata": {},
   "outputs": [
    {
     "data": {
      "text/plain": [
       "array([15, 10, 20])"
      ]
     },
     "execution_count": 66,
     "metadata": {},
     "output_type": "execute_result"
    }
   ],
   "source": [
    "data[:, 1]"
   ]
  },
  {
   "cell_type": "markdown",
   "id": "c91a94f4",
   "metadata": {},
   "source": [
    "# 8"
   ]
  },
  {
   "cell_type": "markdown",
   "id": "596fa16c",
   "metadata": {},
   "source": [
    "**Dado el siguiente arreglo multidimensional:\n",
    "arregloMultiD = np.random.rand(4,8,4)**"
   ]
  },
  {
   "cell_type": "markdown",
   "id": "8d553eb1",
   "metadata": {},
   "source": [
    "arregloMultiD = np.random.rand(4,8,4)"
   ]
  },
  {
   "cell_type": "markdown",
   "id": "ec6b1510",
   "metadata": {},
   "source": [
    "8.1\tVolverlo de manera lineal"
   ]
  },
  {
   "cell_type": "code",
   "execution_count": 71,
   "id": "2167ebca",
   "metadata": {},
   "outputs": [
    {
     "name": "stdout",
     "output_type": "stream",
     "text": [
      "[0.70481696 0.20382876 0.11948846 0.8883125  0.64144797 0.98840291\n",
      " 0.39779723 0.7650947  0.0650955  0.00362895 0.55326662 0.48579025\n",
      " 0.23088876 0.6485927  0.7054639  0.48140124 0.99251373 0.57107458\n",
      " 0.21010855 0.28148096 0.48268683 0.67101064 0.59006028 0.24571744\n",
      " 0.13368844 0.82077435 0.48659827 0.96565558 0.53382061 0.91054532\n",
      " 0.13552647 0.10388608 0.99041984 0.22112547 0.34388465 0.79846964\n",
      " 0.24565856 0.63560324 0.61916028 0.93108534 0.1863849  0.15104188\n",
      " 0.73738888 0.59178576 0.96359021 0.6931936  0.78395828 0.27274377\n",
      " 0.12927791 0.8628181  0.95499617 0.07903567 0.61431581 0.96195929\n",
      " 0.93165515 0.40975171 0.15833139 0.63629563 0.12183967 0.25118887\n",
      " 0.20743813 0.57395841 0.78168912 0.03349956 0.44855701 0.01827621\n",
      " 0.03441544 0.98620804 0.33618959 0.0492575  0.75161648 0.04993093\n",
      " 0.06736359 0.27844005 0.38011569 0.42554991 0.92905155 0.81993081\n",
      " 0.00288564 0.26206174 0.48712122 0.28664324 0.6436178  0.69915582\n",
      " 0.94344897 0.71873611 0.19295246 0.97653893 0.39708597 0.93227508\n",
      " 0.16116626 0.37053894 0.41657249 0.72572274 0.22919102 0.71956273\n",
      " 0.61510313 0.6474388  0.92358046 0.87786912 0.11238445 0.6065793\n",
      " 0.94815332 0.70436169 0.55020254 0.85716927 0.77798439 0.39393516\n",
      " 0.42427229 0.65895321 0.51738334 0.47937557 0.57450892 0.43521942\n",
      " 0.37927833 0.57722333 0.10834642 0.84308026 0.32724509 0.56947438\n",
      " 0.47349657 0.00259764 0.60034031 0.10998485 0.44340552 0.5803672\n",
      " 0.78583827 0.02687936]\n"
     ]
    }
   ],
   "source": [
    "arregloMultiD = np.random.rand(4, 8, 4)\n",
    "\n",
    "arrayLineal = arregloMultiD.reshape(-1)\n",
    "\n",
    "print(arrayLineal)"
   ]
  },
  {
   "cell_type": "markdown",
   "id": "5c4966ab",
   "metadata": {},
   "source": [
    "8.2\tReajustarlo en tuplas"
   ]
  },
  {
   "cell_type": "code",
   "execution_count": 75,
   "id": "c8398176",
   "metadata": {},
   "outputs": [
    {
     "name": "stdout",
     "output_type": "stream",
     "text": [
      "[[0.11937845 0.38776296]\n",
      " [0.24487655 0.61195519]\n",
      " [0.65992695 0.37933621]\n",
      " [0.96122898 0.52033739]\n",
      " [0.60357822 0.34517858]\n",
      " [0.12211619 0.96252009]\n",
      " [0.56244366 0.09180187]\n",
      " [0.90961529 0.22435924]\n",
      " [0.80985909 0.93323479]\n",
      " [0.72183298 0.83867263]\n",
      " [0.78164936 0.11965864]\n",
      " [0.00652272 0.55983778]\n",
      " [0.65485758 0.98932895]\n",
      " [0.3006246  0.23240986]\n",
      " [0.24544578 0.15628041]\n",
      " [0.94502119 0.43850852]\n",
      " [0.95411293 0.24247052]\n",
      " [0.06728776 0.73719695]\n",
      " [0.86514781 0.41919054]\n",
      " [0.94410525 0.06211039]\n",
      " [0.20111468 0.70016565]\n",
      " [0.25649448 0.59309027]\n",
      " [0.47756923 0.45161304]\n",
      " [0.55924787 0.81051002]\n",
      " [0.75271363 0.56937126]\n",
      " [0.90767617 0.23301735]\n",
      " [0.87659498 0.66932562]\n",
      " [0.47568749 0.57088974]\n",
      " [0.4070008  0.88226189]\n",
      " [0.94177807 0.21064232]\n",
      " [0.13807818 0.97425505]\n",
      " [0.56528738 0.36444174]\n",
      " [0.03680419 0.6252541 ]\n",
      " [0.25888934 0.80646071]\n",
      " [0.07644546 0.45993015]\n",
      " [0.22842215 0.0350528 ]\n",
      " [0.76563555 0.92180496]\n",
      " [0.35313029 0.62810009]\n",
      " [0.79503143 0.34056849]\n",
      " [0.2842129  0.1168459 ]\n",
      " [0.29392522 0.54826137]\n",
      " [0.71753609 0.09951242]\n",
      " [0.59665887 0.9178176 ]\n",
      " [0.52309071 0.67985588]\n",
      " [0.45004798 0.13522669]\n",
      " [0.23622907 0.7466467 ]\n",
      " [0.8895509  0.42841885]\n",
      " [0.17748861 0.07946028]\n",
      " [0.74189531 0.38152695]\n",
      " [0.36151678 0.86956547]\n",
      " [0.08711603 0.82604917]\n",
      " [0.45301888 0.36551865]\n",
      " [0.81961426 0.74076527]\n",
      " [0.36108783 0.20218149]\n",
      " [0.18692493 0.35604137]\n",
      " [0.97867009 0.96760636]\n",
      " [0.22782223 0.76855914]\n",
      " [0.59150208 0.41939087]\n",
      " [0.95805917 0.0167571 ]\n",
      " [0.98086527 0.14404909]\n",
      " [0.75407244 0.04056416]\n",
      " [0.21693591 0.58569447]\n",
      " [0.48630035 0.02573264]\n",
      " [0.73905886 0.68155309]]\n"
     ]
    }
   ],
   "source": [
    "arrayAjustado = arregloMultiD.reshape(-1,2)\n",
    "\n",
    "print(arrayAjustado)"
   ]
  }
 ],
 "metadata": {
  "kernelspec": {
   "display_name": "Python 3 (ipykernel)",
   "language": "python",
   "name": "python3"
  },
  "language_info": {
   "codemirror_mode": {
    "name": "ipython",
    "version": 3
   },
   "file_extension": ".py",
   "mimetype": "text/x-python",
   "name": "python",
   "nbconvert_exporter": "python",
   "pygments_lexer": "ipython3",
   "version": "3.11.4"
  }
 },
 "nbformat": 4,
 "nbformat_minor": 5
}
