{
 "cells": [
  {
   "cell_type": "markdown",
   "id": "ef941bbb",
   "metadata": {},
   "source": [
    "Aprendizaje **supervisado**"
   ]
  },
  {
   "cell_type": "markdown",
   "id": "a6be35a6",
   "metadata": {},
   "source": [
    "Aprendizaje **basado en modelos**"
   ]
  },
  {
   "cell_type": "markdown",
   "id": "2474dba8",
   "metadata": {},
   "source": [
    "Realiza predicciones computando una **suma ponderada de las características de entrada** y sumandole una constante conocida como bias, pero se aplica a una función logística al resultado"
   ]
  },
  {
   "cell_type": "markdown",
   "id": "c996d41c",
   "metadata": {},
   "source": [
    "Intenta predecir **valores discretos**"
   ]
  },
  {
   "cell_type": "code",
   "execution_count": null,
   "id": "68a50e5f",
   "metadata": {},
   "outputs": [],
   "source": [
    "import matplotlib.pyplot as plt\n",
    "import numpy as np \n",
    "# Crear datos para e eje y \n",
    "y1 = np.zeros(10) # Array de 10 ceros para el primer grupo\n",
    "y2 = np.ones(20) # Array de 20 unos para el segundo grupo\n",
    "\n",
    "# Crear datos para el eje x\n",
    "x1 = np.random.uniform(0,10,10) # Numeros aleatorios entre 0 y 30 para el primer grupo\n",
    "x2 = np.random.uniform(10,30,20) # Numeros aleatorios entre 0 y 30 para el segundo grupo\n",
    "\n",
    "# Configurar el gráfico \n",
    "plt.figure(figsize=(10,6))\n",
    "plt.scatter(x1,y1, marker = 'D', color = 'green')\n"
   ]
  }
 ],
 "metadata": {
  "kernelspec": {
   "display_name": "Python 3 (ipykernel)",
   "language": "python",
   "name": "python3"
  },
  "language_info": {
   "codemirror_mode": {
    "name": "ipython",
    "version": 3
   },
   "file_extension": ".py",
   "mimetype": "text/x-python",
   "name": "python",
   "nbconvert_exporter": "python",
   "pygments_lexer": "ipython3",
   "version": "3.11.4"
  }
 },
 "nbformat": 4,
 "nbformat_minor": 5
}
