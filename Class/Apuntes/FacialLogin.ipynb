{
 "cells": [
  {
   "cell_type": "markdown",
   "id": "7e687950",
   "metadata": {},
   "source": [
    "conda install opencv\n",
    "pip install dlib\n",
    "pip install Pillow\n",
    "pip install scikit-learn"
   ]
  },
  {
   "cell_type": "code",
   "execution_count": 1,
   "id": "9df0e8b5",
   "metadata": {},
   "outputs": [
    {
     "ename": "ModuleNotFoundError",
     "evalue": "No module named 'dlib'",
     "output_type": "error",
     "traceback": [
      "\u001b[1;31m---------------------------------------------------------------------------\u001b[0m",
      "\u001b[1;31mModuleNotFoundError\u001b[0m                       Traceback (most recent call last)",
      "Cell \u001b[1;32mIn[1], line 1\u001b[0m\n\u001b[1;32m----> 1\u001b[0m \u001b[38;5;28;01mimport\u001b[39;00m \u001b[38;5;21;01mdlib\u001b[39;00m\n",
      "\u001b[1;31mModuleNotFoundError\u001b[0m: No module named 'dlib'"
     ]
    }
   ],
   "source": [
    "import dlib"
   ]
  },
  {
   "cell_type": "code",
   "execution_count": 2,
   "id": "d879810a",
   "metadata": {},
   "outputs": [],
   "source": [
    "import os"
   ]
  },
  {
   "cell_type": "code",
   "execution_count": 3,
   "id": "d3558a03",
   "metadata": {},
   "outputs": [],
   "source": [
    "from PIL import Image"
   ]
  },
  {
   "cell_type": "code",
   "execution_count": 4,
   "id": "3b27b50c",
   "metadata": {},
   "outputs": [],
   "source": [
    "import numpy as np"
   ]
  },
  {
   "cell_type": "code",
   "execution_count": null,
   "id": "38983e58",
   "metadata": {},
   "outputs": [],
   "source": [
    "# Directorio que contiene lass carpetas con las imagenes de cada persona \n",
    "data_dir = \"data/\"\n",
    "# Inicializar un detector de caras de dlib (HOG)\n",
    "face_detector = dlib.get_frontal_face_detector()\n",
    "# Verificar si el archivo \"shape_predictor_68_face_landmarks.dat\" existe en el directorio actual\n",
    "shape_predictor_file = \"shape_predictor_68_face_landmarks.dat\"\n",
    "if not os.path-isfile(shape_predictor_file):\n",
    "    print(\"El archivo 'shape_predict_68_face_landmarks.dat' no se encuentra \")\n",
    "    print(\"Por favor, asegurate de que el archivo esté presente o proporcional\")\n",
    "    exit()\n",
    "# Inicializar un extractor de características faciales de dlib (shape_p)\n",
    "shape_predictor = dlib.shape_predictor(shape_predictor_file)\n",
    "# Crear una lista para almacenar las características faciales y las etiquetas \n",
    "features = []\n",
    "labels = []\n",
    "# Recorrer cada carpeta de personas en el directorio de datos \n",
    "for person_name in os.listdir(data_dir):\n",
    "    person_dir = os.path.join(data_dir, person_name)\n",
    "    \n",
    "    # Verificar que sea un directorio \n",
    "    if os.path.isdir(person_dir):\n",
    "        for image_file in os.listdir(person_dir):\n",
    "            # Ruta completa de la imagen \n",
    "            image_path = os.path.join(person_dir, image_file)\n",
    "            \n",
    "            # Verifica si el archivo es una imagen válida\n",
    "            if not image_path.endswith(('.jpg', '.jpeg', '.png', '.gif', '.bmp'))\n",
    "             print(f\"Saltando archivo no válido: {image_path}\")\n",
    "            continue\n",
    "            try: \n",
    "                image = dlb.load_rgb_image(image_path)\n",
    "            except Exception as e:\n",
    "                print(f\"Error al abrir {image_path}: {e}\")\n",
    "                continue # Salta el archivo si no es una imagen valida\n",
    "            \n",
    "            # Obtén el chip de la cara en escala de grises\n",
    "            faces = face_detector(image)\n",
    "            \n",
    "            "
   ]
  }
 ],
 "metadata": {
  "kernelspec": {
   "display_name": "Python 3 (ipykernel)",
   "language": "python",
   "name": "python3"
  },
  "language_info": {
   "codemirror_mode": {
    "name": "ipython",
    "version": 3
   },
   "file_extension": ".py",
   "mimetype": "text/x-python",
   "name": "python",
   "nbconvert_exporter": "python",
   "pygments_lexer": "ipython3",
   "version": "3.11.4"
  }
 },
 "nbformat": 4,
 "nbformat_minor": 5
}
